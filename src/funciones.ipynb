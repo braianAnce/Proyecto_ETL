{
 "cells": [
  {
   "cell_type": "code",
   "execution_count": 9,
   "metadata": {},
   "outputs": [],
   "source": [
    "import requests\n",
    "import pandas as pd\n",
    "import os\n",
    "from datetime import datetime, timedelta\n",
    "import sqlalchemy as sa\n",
    "from configparser import ConfigParser"
   ]
  },
  {
   "cell_type": "code",
   "execution_count": 10,
   "metadata": {},
   "outputs": [],
   "source": [
    "def get_data(base_url, endpoint, params= None):\n",
    "  try:\n",
    "    if params == None:\n",
    "      endpoint_url = f\"{base_url}/{endpoint}\"\n",
    "    else:\n",
    "      endpoint_url = f\"{base_url}/{endpoint}/{params['start']}/{params['end']}\" # Condicional creada en el caso que un endpoint requiera parámetros de tiempo.\n",
    "\n",
    "    response = requests.get(endpoint_url, params=params)\n",
    "    response.raise_for_status()  # Levanta una excepción si hay un error en la respuesta HTTP.\n",
    "\n",
    "    try: # Verificar si los datos están en formato JSON.\n",
    "          data = response.json()\n",
    "          data = data[\"data\"]\n",
    "    except:\n",
    "        print(\"El formato de respuesta no es el esperado\")\n",
    "        return None\n",
    "    return data\n",
    "  \n",
    "  except requests.exceptions.RequestException as e: # Capturar cualquier error de solicitud, como errores HTTP.\n",
    "      print(f\"La petición ha fallado. Código de error : {e}\")\n",
    "      return None"
   ]
  },
  {
   "cell_type": "code",
   "execution_count": 11,
   "metadata": {},
   "outputs": [],
   "source": [
    "def build_table(json_data):\n",
    "  df = pd.json_normalize(json_data)\n",
    "  return df"
   ]
  },
  {
   "cell_type": "code",
   "execution_count": 12,
   "metadata": {},
   "outputs": [],
   "source": [
    "def date_fromTo(number_days = None):\n",
    "  if number_days == None:\n",
    "    end_date = datetime.utcnow() - timedelta(days=1)\n",
    "    start_date = datetime.utcnow() - timedelta(days=31) # Fecha de inicio: 31 dias antes que la ejecucion del script.\n",
    "  else:\n",
    "    end_date = datetime.utcnow() - timedelta(days=1)\n",
    "    start_date = datetime.utcnow() - timedelta(number_days)\n",
    "\n",
    "  end_date = end_date.strftime(\"%Y-%m-%dT%H:00:00Z\")\n",
    "  start_date = start_date.strftime(\"%Y-%m-%dT%H:00:00Z\")\n",
    "\n",
    "  params = {\n",
    "    \"start\": start_date,\n",
    "    \"end\": end_date\n",
    "    }\n",
    "  return params"
   ]
  },
  {
   "cell_type": "code",
   "execution_count": 13,
   "metadata": {},
   "outputs": [],
   "source": [
    "def save_to_csv(df, save_path):\n",
    "  \n",
    "  \"\"\"\n",
    "  Funcion que almacena un DataFrame en formato .csv, en una ubicacion especificada.\n",
    "  \n",
    "  Argumentos:\n",
    "  \n",
    "    df= DataFrame pandas que se desea guardar.\n",
    "    save_path= ruta donde se desea guardar el archivo.csv, en formato de texto.\n",
    "    \n",
    "  Excepciones:\n",
    "  \n",
    "    TypeError= Si el argumento df no es un DataFrame de pandas.\n",
    "  \"\"\"\n",
    "  \n",
    "  # Verificar que df sea un DataFrame.\n",
    "  if not isinstance(df, pd.DataFrame):\n",
    "    raise TypeError('el argumento \"df\" debe ser un DataFrame de pandas. ')\n",
    "\n",
    "  # Crear el directorio si no existe\n",
    "  directory = os.path.dirname(save_path)\n",
    "  if directory and not os.path.exists(directory):\n",
    "    os.makedirs(directory)\n",
    "\n",
    "  try:\n",
    "    #Guardar el DataFrame en formato csv\n",
    "    df.to_csv(save_path, index=False)\n",
    "    print('DataFrame guardado exitosamente en formato CSV.')\n",
    "  except Exception as e:\n",
    "    print(f'Error al guardar el DataFrame en formato CSV: {str(e)}')\n"
   ]
  }
 ],
 "metadata": {
  "kernelspec": {
   "display_name": "venv",
   "language": "python",
   "name": "python3"
  },
  "language_info": {
   "codemirror_mode": {
    "name": "ipython",
    "version": 3
   },
   "file_extension": ".py",
   "mimetype": "text/x-python",
   "name": "python",
   "nbconvert_exporter": "python",
   "pygments_lexer": "ipython3",
   "version": "3.9.7"
  },
  "orig_nbformat": 4
 },
 "nbformat": 4,
 "nbformat_minor": 2
}
