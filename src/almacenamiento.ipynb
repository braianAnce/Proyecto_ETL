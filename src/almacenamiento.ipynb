{
 "cells": [
  {
   "cell_type": "code",
   "execution_count": 26,
   "metadata": {},
   "outputs": [],
   "source": [
    "import import_ipynb\n",
    "from funciones import get_data, build_table, save_to_csv"
   ]
  },
  {
   "cell_type": "code",
   "execution_count": 27,
   "metadata": {},
   "outputs": [],
   "source": [
    "base_url= 'http://api.carbonintensity.org.uk'\n",
    "endpoint = 'intensity/factors'\n",
    "factors = get_data(base_url, endpoint)\n",
    "\n",
    "if factors:\n",
    "  df_factors = build_table(factors)\n",
    "\n",
    "# Reestructuracion de DataFrame\n",
    "df_factors = df_factors.melt()\n",
    "\n",
    "# Renombrar columnas\n",
    "df_factors = df_factors.rename(columns = {'variable':'Fuels'})"
   ]
  },
  {
   "cell_type": "code",
   "execution_count": 28,
   "metadata": {},
   "outputs": [
    {
     "name": "stdout",
     "output_type": "stream",
     "text": [
      "DataFrame guardado exitosamente en formato CSV.\n"
     ]
    }
   ],
   "source": [
    "ruta = f\"{os.path.dirname(os.getcwd())}/archivos\"\n",
    "nombre_archivo = 'factors.csv'\n",
    "ruta_full = f\"{ruta}/{nombre_archivo}\"\n",
    "\n",
    "save_to_csv(df_factors, ruta_full)"
   ]
  },
  {
   "cell_type": "code",
   "execution_count": null,
   "metadata": {},
   "outputs": [],
   "source": []
  },
  {
   "cell_type": "code",
   "execution_count": null,
   "metadata": {},
   "outputs": [],
   "source": []
  }
 ],
 "metadata": {
  "kernelspec": {
   "display_name": "venv",
   "language": "python",
   "name": "python3"
  },
  "language_info": {
   "codemirror_mode": {
    "name": "ipython",
    "version": 3
   },
   "file_extension": ".py",
   "mimetype": "text/x-python",
   "name": "python",
   "nbconvert_exporter": "python",
   "pygments_lexer": "ipython3",
   "version": "3.9.7"
  },
  "orig_nbformat": 4
 },
 "nbformat": 4,
 "nbformat_minor": 2
}
