{
 "cells": [
  {
   "cell_type": "markdown",
   "metadata": {},
   "source": [
    "# Orquestador\n",
    "\n",
    "el presente archivo tiene el proposito de coordinar la ejecucion de las notebooks en un orden que garantice su correcto funcionamiento."
   ]
  },
  {
   "cell_type": "code",
   "execution_count": 2,
   "metadata": {},
   "outputs": [
    {
     "name": "stdout",
     "output_type": "stream",
     "text": [
      "Collecting import_ipynb==0.1.4\n",
      "  Using cached import_ipynb-0.1.4-py3-none-any.whl (4.1 kB)\n",
      "Collecting pandas==1.3.4\n",
      "  Downloading pandas-1.3.4-cp310-cp310-win_amd64.whl (10.2 MB)\n",
      "     ---------------------------------------- 10.2/10.2 MB 2.6 MB/s eta 0:00:00\n",
      "Requirement already satisfied: Requests==2.31.0 in c:\\users\\braia\\appdata\\local\\programs\\python\\python310\\lib\\site-packages (from -r requirements.txt (line 3)) (2.31.0)\n",
      "Collecting SQLAlchemy==1.4.22\n",
      "  Downloading SQLAlchemy-1.4.22.tar.gz (7.7 MB)\n",
      "     ---------------------------------------- 7.7/7.7 MB 3.2 MB/s eta 0:00:00\n",
      "  Preparing metadata (setup.py): started\n",
      "  Preparing metadata (setup.py): finished with status 'done'\n",
      "Collecting psycopg2\n",
      "  Downloading psycopg2-2.9.9-cp310-cp310-win_amd64.whl (1.2 MB)\n",
      "     ---------------------------------------- 1.2/1.2 MB 8.2 MB/s eta 0:00:00\n",
      "Collecting nbformat\n",
      "  Using cached nbformat-5.9.2-py3-none-any.whl (77 kB)\n",
      "Requirement already satisfied: IPython in c:\\users\\braia\\appdata\\roaming\\python\\python310\\site-packages (from import_ipynb==0.1.4->-r requirements.txt (line 1)) (8.8.0)\n",
      "Requirement already satisfied: numpy>=1.21.0 in c:\\users\\braia\\appdata\\local\\programs\\python\\python310\\lib\\site-packages (from pandas==1.3.4->-r requirements.txt (line 2)) (1.24.1)\n",
      "Requirement already satisfied: python-dateutil>=2.7.3 in c:\\users\\braia\\appdata\\roaming\\python\\python310\\site-packages (from pandas==1.3.4->-r requirements.txt (line 2)) (2.8.2)\n",
      "Requirement already satisfied: pytz>=2017.3 in c:\\users\\braia\\appdata\\local\\programs\\python\\python310\\lib\\site-packages (from pandas==1.3.4->-r requirements.txt (line 2)) (2022.7.1)\n",
      "Requirement already satisfied: idna<4,>=2.5 in c:\\users\\braia\\appdata\\local\\programs\\python\\python310\\lib\\site-packages (from Requests==2.31.0->-r requirements.txt (line 3)) (3.4)\n",
      "Requirement already satisfied: charset-normalizer<4,>=2 in c:\\users\\braia\\appdata\\local\\programs\\python\\python310\\lib\\site-packages (from Requests==2.31.0->-r requirements.txt (line 3)) (3.3.0)\n",
      "Requirement already satisfied: urllib3<3,>=1.21.1 in c:\\users\\braia\\appdata\\local\\programs\\python\\python310\\lib\\site-packages (from Requests==2.31.0->-r requirements.txt (line 3)) (2.0.6)\n",
      "Requirement already satisfied: certifi>=2017.4.17 in c:\\users\\braia\\appdata\\local\\programs\\python\\python310\\lib\\site-packages (from Requests==2.31.0->-r requirements.txt (line 3)) (2023.7.22)\n",
      "Requirement already satisfied: greenlet!=0.4.17 in c:\\users\\braia\\appdata\\local\\programs\\python\\python310\\lib\\site-packages (from SQLAlchemy==1.4.22->-r requirements.txt (line 4)) (3.0.0)\n",
      "Requirement already satisfied: six>=1.5 in c:\\users\\braia\\appdata\\roaming\\python\\python310\\site-packages (from python-dateutil>=2.7.3->pandas==1.3.4->-r requirements.txt (line 2)) (1.16.0)\n",
      "Requirement already satisfied: jedi>=0.16 in c:\\users\\braia\\appdata\\roaming\\python\\python310\\site-packages (from IPython->import_ipynb==0.1.4->-r requirements.txt (line 1)) (0.18.2)\n",
      "Requirement already satisfied: pickleshare in c:\\users\\braia\\appdata\\roaming\\python\\python310\\site-packages (from IPython->import_ipynb==0.1.4->-r requirements.txt (line 1)) (0.7.5)\n",
      "Requirement already satisfied: backcall in c:\\users\\braia\\appdata\\roaming\\python\\python310\\site-packages (from IPython->import_ipynb==0.1.4->-r requirements.txt (line 1)) (0.2.0)\n",
      "Requirement already satisfied: decorator in c:\\users\\braia\\appdata\\roaming\\python\\python310\\site-packages (from IPython->import_ipynb==0.1.4->-r requirements.txt (line 1)) (5.1.1)\n",
      "Requirement already satisfied: prompt-toolkit<3.1.0,>=3.0.11 in c:\\users\\braia\\appdata\\roaming\\python\\python310\\site-packages (from IPython->import_ipynb==0.1.4->-r requirements.txt (line 1)) (3.0.36)\n",
      "Requirement already satisfied: matplotlib-inline in c:\\users\\braia\\appdata\\roaming\\python\\python310\\site-packages (from IPython->import_ipynb==0.1.4->-r requirements.txt (line 1)) (0.1.6)\n",
      "Requirement already satisfied: pygments>=2.4.0 in c:\\users\\braia\\appdata\\roaming\\python\\python310\\site-packages (from IPython->import_ipynb==0.1.4->-r requirements.txt (line 1)) (2.14.0)\n",
      "Requirement already satisfied: stack-data in c:\\users\\braia\\appdata\\roaming\\python\\python310\\site-packages (from IPython->import_ipynb==0.1.4->-r requirements.txt (line 1)) (0.6.2)\n",
      "Requirement already satisfied: traitlets>=5 in c:\\users\\braia\\appdata\\roaming\\python\\python310\\site-packages (from IPython->import_ipynb==0.1.4->-r requirements.txt (line 1)) (5.8.1)\n",
      "Requirement already satisfied: colorama in c:\\users\\braia\\appdata\\roaming\\python\\python310\\site-packages (from IPython->import_ipynb==0.1.4->-r requirements.txt (line 1)) (0.4.6)\n",
      "Requirement already satisfied: jupyter-core in c:\\users\\braia\\appdata\\roaming\\python\\python310\\site-packages (from nbformat->import_ipynb==0.1.4->-r requirements.txt (line 1)) (5.1.3)\n",
      "Collecting fastjsonschema\n",
      "  Using cached fastjsonschema-2.18.1-py3-none-any.whl (23 kB)\n",
      "Collecting jsonschema>=2.6\n",
      "  Using cached jsonschema-4.19.2-py3-none-any.whl (83 kB)\n",
      "Requirement already satisfied: parso<0.9.0,>=0.8.0 in c:\\users\\braia\\appdata\\roaming\\python\\python310\\site-packages (from jedi>=0.16->IPython->import_ipynb==0.1.4->-r requirements.txt (line 1)) (0.8.3)\n",
      "Collecting attrs>=22.2.0\n",
      "  Using cached attrs-23.1.0-py3-none-any.whl (61 kB)\n",
      "Collecting rpds-py>=0.7.1\n",
      "  Downloading rpds_py-0.12.0-cp310-none-win_amd64.whl (186 kB)\n",
      "     ------------------------------------- 186.4/186.4 KB 11.0 MB/s eta 0:00:00\n",
      "Collecting referencing>=0.28.4\n",
      "  Using cached referencing-0.30.2-py3-none-any.whl (25 kB)\n",
      "Collecting jsonschema-specifications>=2023.03.6\n",
      "  Using cached jsonschema_specifications-2023.7.1-py3-none-any.whl (17 kB)\n",
      "Requirement already satisfied: wcwidth in c:\\users\\braia\\appdata\\roaming\\python\\python310\\site-packages (from prompt-toolkit<3.1.0,>=3.0.11->IPython->import_ipynb==0.1.4->-r requirements.txt (line 1)) (0.2.6)\n",
      "Requirement already satisfied: platformdirs>=2.5 in c:\\users\\braia\\appdata\\roaming\\python\\python310\\site-packages (from jupyter-core->nbformat->import_ipynb==0.1.4->-r requirements.txt (line 1)) (2.6.2)\n",
      "Requirement already satisfied: pywin32>=1.0 in c:\\users\\braia\\appdata\\roaming\\python\\python310\\site-packages (from jupyter-core->nbformat->import_ipynb==0.1.4->-r requirements.txt (line 1)) (305)\n",
      "Requirement already satisfied: asttokens>=2.1.0 in c:\\users\\braia\\appdata\\roaming\\python\\python310\\site-packages (from stack-data->IPython->import_ipynb==0.1.4->-r requirements.txt (line 1)) (2.2.1)\n",
      "Requirement already satisfied: executing>=1.2.0 in c:\\users\\braia\\appdata\\roaming\\python\\python310\\site-packages (from stack-data->IPython->import_ipynb==0.1.4->-r requirements.txt (line 1)) (1.2.0)\n",
      "Requirement already satisfied: pure-eval in c:\\users\\braia\\appdata\\roaming\\python\\python310\\site-packages (from stack-data->IPython->import_ipynb==0.1.4->-r requirements.txt (line 1)) (0.2.2)\n",
      "Using legacy 'setup.py install' for SQLAlchemy, since package 'wheel' is not installed.\n",
      "Installing collected packages: fastjsonschema, SQLAlchemy, rpds-py, psycopg2, attrs, referencing, pandas, jsonschema-specifications, jsonschema, nbformat, import_ipynb\n",
      "  Attempting uninstall: SQLAlchemy\n",
      "    Found existing installation: SQLAlchemy 1.4.49\n",
      "    Uninstalling SQLAlchemy-1.4.49:\n",
      "      Successfully uninstalled SQLAlchemy-1.4.49\n",
      "  Running setup.py install for SQLAlchemy: started\n",
      "  Running setup.py install for SQLAlchemy: finished with status 'done'\n",
      "  Attempting uninstall: pandas\n",
      "    Found existing installation: pandas 1.5.3\n",
      "    Uninstalling pandas-1.5.3:\n",
      "      Successfully uninstalled pandas-1.5.3\n",
      "Successfully installed SQLAlchemy-1.4.22 attrs-23.1.0 fastjsonschema-2.18.1 import_ipynb-0.1.4 jsonschema-4.19.2 jsonschema-specifications-2023.7.1 nbformat-5.9.2 pandas-1.3.4 psycopg2-2.9.9 referencing-0.30.2 rpds-py-0.12.0\n",
      "Note: you may need to restart the kernel to use updated packages.\n"
     ]
    },
    {
     "name": "stderr",
     "output_type": "stream",
     "text": [
      "WARNING: You are using pip version 22.0.4; however, version 23.3.1 is available.\n",
      "You should consider upgrading via the 'c:\\Users\\Braia\\AppData\\Local\\Programs\\Python\\Python310\\python.exe -m pip install --upgrade pip' command.\n"
     ]
    }
   ],
   "source": [
    "%pip install -r requirements.txt"
   ]
  },
  {
   "cell_type": "code",
   "execution_count": 4,
   "metadata": {},
   "outputs": [],
   "source": [
    "%run funciones.ipynb"
   ]
  },
  {
   "cell_type": "code",
   "execution_count": 5,
   "metadata": {},
   "outputs": [
    {
     "name": "stdout",
     "output_type": "stream",
     "text": [
      "importing Jupyter notebook from funciones.ipynb\n",
      "DataFrame guardado exitosamente en formato CSV.\n",
      "DataFrame guardado exitosamente en formato CSV.\n",
      "DataFrame guardado exitosamente en formato CSV.\n",
      "DataFrame guardado exitosamente en formato CSV.\n",
      "DataFrame guardado exitosamente en formato CSV.\n",
      "DataFrame guardado exitosamente en formato CSV.\n"
     ]
    }
   ],
   "source": [
    "%run almacenamiento.ipynb"
   ]
  },
  {
   "cell_type": "code",
   "execution_count": 6,
   "metadata": {},
   "outputs": [],
   "source": [
    "%run tablas.ipynb"
   ]
  },
  {
   "cell_type": "code",
   "execution_count": 7,
   "metadata": {},
   "outputs": [
    {
     "name": "stdout",
     "output_type": "stream",
     "text": [
      "DATAFRAME: df_intensity\n",
      "\n",
      "col_date              0\n",
      "year                  0\n",
      "month                 0\n",
      "day                   0\n",
      "hour                  0\n",
      "intensity_forecast    0\n",
      "intensity_actual      0\n",
      "intensity_index       0\n",
      "dtype: int64\n",
      "-------------------\n",
      "\n",
      "DATAFRAME: df_factors\n",
      "\n",
      "fuels    0\n",
      "value    0\n",
      "dtype: int64\n",
      "-------------------\n",
      "\n",
      "DATAFRAME: df_date\n",
      "\n",
      "col_date    0\n",
      "year        0\n",
      "month       0\n",
      "day         0\n",
      "hour        0\n",
      "cod_date    0\n",
      "dtype: int64\n",
      "-------------------\n",
      "\n",
      "DATAFRAME: df_generation\n",
      "\n",
      "region_id    0\n",
      "cod_date     0\n",
      "fuel         0\n",
      "perc         0\n",
      "dtype: int64\n",
      "-------------------\n",
      "\n",
      "DATAFRAME: df_regional\n",
      "\n",
      "region_id             0\n",
      "cod_date              0\n",
      "intensity_forecast    0\n",
      "intensity_index       0\n",
      "dtype: int64\n",
      "-------------------\n",
      "\n",
      "DATAFRAME: df_regions\n",
      "\n",
      "region_id    0\n",
      "shortname    0\n",
      "dtype: int64\n",
      "-------------------\n",
      "\n"
     ]
    }
   ],
   "source": [
    "%run procesoETL.ipynb"
   ]
  },
  {
   "cell_type": "code",
   "execution_count": null,
   "metadata": {},
   "outputs": [],
   "source": []
  }
 ],
 "metadata": {
  "kernelspec": {
   "display_name": "Python 3",
   "language": "python",
   "name": "python3"
  },
  "language_info": {
   "codemirror_mode": {
    "name": "ipython",
    "version": 3
   },
   "file_extension": ".py",
   "mimetype": "text/x-python",
   "name": "python",
   "nbconvert_exporter": "python",
   "pygments_lexer": "ipython3",
   "version": "3.10.4"
  }
 },
 "nbformat": 4,
 "nbformat_minor": 2
}
