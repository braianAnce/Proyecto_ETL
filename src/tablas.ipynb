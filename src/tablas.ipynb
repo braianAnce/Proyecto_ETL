{
 "cells": [
  {
   "cell_type": "markdown",
   "metadata": {},
   "source": [
    "# Creacion de tablas en base de datos SQL\n",
    "\n",
    " En el presente script se crean las tablas en la base de datos SQL mediante el uso de la funcion connect_to_postgres\n"
   ]
  },
  {
   "cell_type": "code",
   "execution_count": 5,
   "metadata": {},
   "outputs": [],
   "source": [
    "import import_ipynb\n",
    "import funciones as f\n",
    "import os"
   ]
  },
  {
   "cell_type": "code",
   "execution_count": 6,
   "metadata": {},
   "outputs": [],
   "source": [
    "# Se realiza la carga de datos a una base de datos postgresql. Se hace uso de la funcion connect_to_postgres para realizar la conexion.\n",
    "conn_path = f\"{os.path.dirname(os.getcwd())}/credenciales/config.ini\"\n",
    "engine = f.connect_to_postgres(conn_path)"
   ]
  },
  {
   "cell_type": "code",
   "execution_count": 7,
   "metadata": {},
   "outputs": [
    {
     "data": {
      "text/plain": [
       "<sqlalchemy.engine.cursor.LegacyCursorResult at 0x246ea72c5e0>"
      ]
     },
     "execution_count": 7,
     "metadata": {},
     "output_type": "execute_result"
    }
   ],
   "source": [
    "# Tabla intensity national\n",
    "\n",
    "script = \"\"\" CREATE TABLE IF NOT EXISTS ba_intensity_national(\n",
    "  col_date DATE,\n",
    "  year INT,\n",
    "  month INT,\n",
    "  day INT,\n",
    "  hour INT,\n",
    "  intensity_forecast INT,\n",
    "  intensity_actual INT,\n",
    "  intensity_index VARCHAR(20)\n",
    ")\n",
    "\"\"\"\n",
    "\n",
    "engine.execute(script)"
   ]
  },
  {
   "cell_type": "code",
   "execution_count": 8,
   "metadata": {},
   "outputs": [
    {
     "data": {
      "text/plain": [
       "<sqlalchemy.engine.cursor.LegacyCursorResult at 0x246ea8168e0>"
      ]
     },
     "execution_count": 8,
     "metadata": {},
     "output_type": "execute_result"
    }
   ],
   "source": [
    "# Tabla Factors\n",
    "script = \"\"\"\n",
    "CREATE TABLE IF NOT EXISTS ba_factors(\n",
    "  fuels VARCHAR(50),\n",
    "  value INT\n",
    ")\n",
    "  \"\"\"\n",
    "\n",
    "engine.execute(script)"
   ]
  },
  {
   "cell_type": "code",
   "execution_count": 9,
   "metadata": {},
   "outputs": [
    {
     "data": {
      "text/plain": [
       "<sqlalchemy.engine.cursor.LegacyCursorResult at 0x246836b33a0>"
      ]
     },
     "execution_count": 9,
     "metadata": {},
     "output_type": "execute_result"
    }
   ],
   "source": [
    "# Tabla regions\n",
    "\n",
    "script =  \"\"\"\n",
    "CREATE TABLE IF NOT EXISTS ba_regions(\n",
    "  region_id INT PRIMARY KEY,\n",
    "  shortname VARCHAR(100)\n",
    ")\n",
    "  \"\"\"\n",
    "\n",
    "engine.execute(script)"
   ]
  },
  {
   "cell_type": "code",
   "execution_count": 10,
   "metadata": {},
   "outputs": [
    {
     "data": {
      "text/plain": [
       "<sqlalchemy.engine.cursor.LegacyCursorResult at 0x246837d5fa0>"
      ]
     },
     "execution_count": 10,
     "metadata": {},
     "output_type": "execute_result"
    }
   ],
   "source": [
    "# Tabla generation\n",
    "\n",
    "script = \"\"\"\n",
    "CREATE TABLE IF NOT EXISTS ba_generation(\n",
    "  region_id INT,\n",
    "  cod_date VARCHAR(50),\n",
    "  fuel VARCHAR(50),\n",
    "  perc DECIMAL\n",
    ")\n",
    "\"\"\"\n",
    "\n",
    "engine.execute(script)"
   ]
  },
  {
   "cell_type": "code",
   "execution_count": 11,
   "metadata": {},
   "outputs": [
    {
     "data": {
      "text/plain": [
       "<sqlalchemy.engine.cursor.LegacyCursorResult at 0x246ea72c4f0>"
      ]
     },
     "execution_count": 11,
     "metadata": {},
     "output_type": "execute_result"
    }
   ],
   "source": [
    "# Tabla time\n",
    "\n",
    "script=\"\"\"\n",
    "CREATE TABLE IF NOT EXISTS ba_time(\n",
    "  col_date DATE,\n",
    "  year INT,\n",
    "  month INT,\n",
    "  day INT,\n",
    "  hour INT,\n",
    "  cod_date VARCHAR(50) PRIMARY KEY\n",
    ")\n",
    "\"\"\"\n",
    "\n",
    "engine.execute(script)"
   ]
  },
  {
   "cell_type": "code",
   "execution_count": 12,
   "metadata": {},
   "outputs": [
    {
     "data": {
      "text/plain": [
       "<sqlalchemy.engine.cursor.LegacyCursorResult at 0x246ea425850>"
      ]
     },
     "execution_count": 12,
     "metadata": {},
     "output_type": "execute_result"
    }
   ],
   "source": [
    "# Tabla regional\n",
    "\n",
    "\n",
    "script = \"\"\"\n",
    "CREATE TABLE IF NOT EXISTS ba_regional(\n",
    "  region_id INT,\n",
    "  cod_date VARCHAR(50),\n",
    "  intensity_forecast INT,\n",
    "  intensity_index VARCHAR(30)\n",
    ")\n",
    "\"\"\"\n",
    "engine.execute(script)"
   ]
  },
  {
   "cell_type": "code",
   "execution_count": 13,
   "metadata": {},
   "outputs": [
    {
     "data": {
      "text/plain": [
       "<sqlalchemy.engine.cursor.LegacyCursorResult at 0x246ea72c460>"
      ]
     },
     "execution_count": 13,
     "metadata": {},
     "output_type": "execute_result"
    }
   ],
   "source": [
    "#Tabla percentiles de fin de semana\n",
    "\n",
    "script = \"\"\"CREATE TABLE IF NOT EXISTS ba_perc_weekend(\n",
    "  region_id INT,\n",
    "  cod_date VARCHAR(50),\n",
    "  year INT,\n",
    "  month INT,\n",
    "  day INT,\n",
    "  hour INT,\n",
    "  day_name VARCHAR(50),\n",
    "  fuel VARCHAR(50),\n",
    "  perc DECIMAL\n",
    ")\n",
    "\"\"\"\n",
    "\n",
    "engine.execute(script)"
   ]
  }
 ],
 "metadata": {
  "kernelspec": {
   "display_name": "venv",
   "language": "python",
   "name": "python3"
  },
  "language_info": {
   "codemirror_mode": {
    "name": "ipython",
    "version": 3
   },
   "file_extension": ".py",
   "mimetype": "text/x-python",
   "name": "python",
   "nbconvert_exporter": "python",
   "pygments_lexer": "ipython3",
   "version": "3.9.7"
  }
 },
 "nbformat": 4,
 "nbformat_minor": 2
}
