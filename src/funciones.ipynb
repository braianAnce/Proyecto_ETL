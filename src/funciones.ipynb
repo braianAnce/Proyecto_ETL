{
 "cells": [
  {
   "cell_type": "markdown",
   "metadata": {},
   "source": [
    "# Librerias necesarias"
   ]
  },
  {
   "cell_type": "code",
   "execution_count": 38,
   "metadata": {},
   "outputs": [],
   "source": [
    "import requests\n",
    "import pandas as pd\n",
    "import os\n",
    "from datetime import datetime, timedelta\n",
    "import sqlalchemy as sa\n",
    "from configparser import ConfigParser"
   ]
  },
  {
   "cell_type": "markdown",
   "metadata": {},
   "source": [
    "# Funciones\n",
    "\n",
    " En el presente script se almacenan las funciones que serán utilizadas a lo largo del proyecto, deberán ser importadas en los scripts para que cumplan su funcionalidad.\n",
    "\n",
    " Detalle de las funciones:\n",
    "\n",
    "*   **get_data(base_url,endpoint,params)**: Realiza una solicitud GET para obtener datos. Hace uso de parámetros para lograr la conexion.\n",
    "*   **build_table(json_data)**: Construye objetos DataFrame a partir de datos en formato JSON.\n",
    "*   **date_fromTo()**: Funcion que retorna un intervalo de tiempo. Si no recibe parámetros: retorna parámetros desde el primero de agosto del año 2023 hasta la fecha actual bajo el estándar de tiempo UTC. Si recibe parámetros, deben ser el número de dias anteriores a la consulta.\n",
    "*   **save_to_csv()**: Funcion que guarda un DataFrame en formato .csv, en una ubicacion establecida.\n",
    "*   **agg_date()**: Funcion que toma 2 parametros (diccionario/fecha). Retorna una fecha\n",
    "*   **agg_code()**: Funcion que toma 2 parametros (diccionario/codigo). Retorna un codigo.\n",
    "*   **connect_to_postgres()**: Funcion que realiza la conexion a la base de datos OLAP."
   ]
  },
  {
   "cell_type": "code",
   "execution_count": 39,
   "metadata": {},
   "outputs": [],
   "source": [
    "def get_data(base_url, endpoint, params= None):\n",
    "  try:\n",
    "    if params == None:\n",
    "      endpoint_url = f\"{base_url}/{endpoint}\"\n",
    "    else:\n",
    "      endpoint_url = f\"{base_url}/{endpoint}/{params['start']}/{params['end']}\" # Condicional creada en el caso que un endpoint requiera parámetros de tiempo.\n",
    "\n",
    "    response = requests.get(endpoint_url, params=params)\n",
    "    response.raise_for_status()  # Levanta una excepción si hay un error en la respuesta HTTP.\n",
    "\n",
    "    try: # Verificar si los datos están en formato JSON.\n",
    "          data = response.json()\n",
    "          data = data[\"data\"]\n",
    "    except:\n",
    "        print(\"El formato de respuesta no es el esperado\")\n",
    "        return None\n",
    "    return data\n",
    "  \n",
    "  except requests.exceptions.RequestException as e: # Capturar cualquier error de solicitud, como errores HTTP.\n",
    "      print(f\"La petición ha fallado. Código de error : {e}\")\n",
    "      return None"
   ]
  },
  {
   "cell_type": "code",
   "execution_count": 40,
   "metadata": {},
   "outputs": [],
   "source": [
    "def build_table(json_data):\n",
    "  df = pd.json_normalize(json_data)\n",
    "  return df"
   ]
  },
  {
   "cell_type": "code",
   "execution_count": 41,
   "metadata": {},
   "outputs": [],
   "source": [
    "def date_fromTo(number_days = None):\n",
    "  if number_days == None:\n",
    "    end_date = datetime.utcnow() - timedelta(days=1)\n",
    "    start_date = datetime.utcnow() - timedelta(days=31) # Fecha de inicio: 31 dias antes que la ejecucion del script.\n",
    "  else:\n",
    "    end_date = datetime.utcnow() - timedelta(days=1)\n",
    "    start_date = datetime.utcnow() - timedelta(number_days)\n",
    "\n",
    "  end_date = end_date.strftime(\"%Y-%m-%dT%H:00:00Z\")\n",
    "  start_date = start_date.strftime(\"%Y-%m-%dT%H:00:00Z\")\n",
    "\n",
    "  params = {\n",
    "    \"start\": start_date,\n",
    "    \"end\": end_date\n",
    "    }\n",
    "  return params"
   ]
  },
  {
   "cell_type": "code",
   "execution_count": 42,
   "metadata": {},
   "outputs": [],
   "source": [
    "def save_to_csv(df, save_path):\n",
    "  \n",
    "  \"\"\"\n",
    "  Funcion que almacena un DataFrame en formato .csv, en una ubicacion especificada.\n",
    "  \n",
    "  Argumentos:\n",
    "  \n",
    "    df= DataFrame pandas que se desea guardar.\n",
    "    save_path= ruta donde se desea guardar el archivo.csv, en formato de texto.\n",
    "    \n",
    "  Excepciones:\n",
    "  \n",
    "    TypeError= Si el argumento df no es un DataFrame de pandas.\n",
    "  \"\"\"\n",
    "  \n",
    "  # Verificar que df sea un DataFrame.\n",
    "  if not isinstance(df, pd.DataFrame):\n",
    "    raise TypeError('el argumento \"df\" debe ser un DataFrame de pandas. ')\n",
    "\n",
    "  # Crear el directorio si no existe\n",
    "  directory = os.path.dirname(save_path)\n",
    "  if directory and not os.path.exists(directory):\n",
    "    os.makedirs(directory)\n",
    "\n",
    "  try:\n",
    "    #Guardar el DataFrame en formato csv\n",
    "    df.to_csv(save_path, index=False)\n",
    "    print('DataFrame guardado exitosamente en formato CSV.')\n",
    "  except Exception as e:\n",
    "    print(f'Error al guardar el DataFrame en formato CSV: {str(e)}')\n"
   ]
  },
  {
   "cell_type": "code",
   "execution_count": 43,
   "metadata": {},
   "outputs": [],
   "source": [
    "def agg_date(dict, date):\n",
    "  dict['date'] = date\n",
    "  return date"
   ]
  },
  {
   "cell_type": "code",
   "execution_count": 44,
   "metadata": {},
   "outputs": [],
   "source": [
    "def agg_code(dict, code):\n",
    "  dict['cod_date'] = code\n",
    "  return code"
   ]
  },
  {
   "cell_type": "code",
   "execution_count": 45,
   "metadata": {},
   "outputs": [],
   "source": [
    "#Funcion que establece conexion a base de datos postgresql\n",
    "\n",
    "def connect_to_postgres(config_file_path= 'config.ini', section= 'postgres'):\n",
    "\n",
    "  \"\"\"\n",
    "  Argumentos:\n",
    "    config_file_path (str): Ruta del archivo de configuracion INI. Por defecto, \"config.ini\".\n",
    "    section (str, optional): Nombre de la seccion en el archivo INI que contiene los datos de conexion. Por defecto, \"postgres\".\n",
    "\n",
    "  Returns:\n",
    "    sqlalchemy.engine.Engine: La conexion a la base de datos.\n",
    "  \"\"\"\n",
    "  # Comprobar si el archivo de configuracion existe.\n",
    "  if not os.path.exists(config_file_path):\n",
    "    raise FileNotFoundError(f'El archivo de configuracion \"{config_file_path}\" no existe.')\n",
    "\n",
    "  # Leer la configuracion desde el archivo INI.\n",
    "  config = ConfigParser()\n",
    "  config.read(config_file_path)\n",
    "  conn_data = config[section]\n",
    "\n",
    "  # Obtener los parametros de conexion:\n",
    "  host = conn_data.get('host')\n",
    "  port = conn_data.get('port')\n",
    "  db = conn_data.get('db')\n",
    "  user = conn_data.get('user')\n",
    "  pwd = conn_data.get('pwd')\n",
    "\n",
    "  url = f\"postgresql://{user}:{pwd}@{host}:{port}/{db}\"\n",
    "\n",
    "  # Establecer la conexion a la base de datos PostgreSQL\n",
    "  conn = sa.create_engine(url)\n",
    "  return conn\n"
   ]
  }
 ],
 "metadata": {
  "kernelspec": {
   "display_name": "venv",
   "language": "python",
   "name": "python3"
  },
  "language_info": {
   "codemirror_mode": {
    "name": "ipython",
    "version": 3
   },
   "file_extension": ".py",
   "mimetype": "text/x-python",
   "name": "python",
   "nbconvert_exporter": "python",
   "pygments_lexer": "ipython3",
   "version": "3.9.7"
  },
  "orig_nbformat": 4
 },
 "nbformat": 4,
 "nbformat_minor": 2
}
